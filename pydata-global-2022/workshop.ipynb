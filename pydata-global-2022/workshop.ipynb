{
 "cells": [
  {
   "cell_type": "markdown",
   "metadata": {},
   "source": [
    "# Pydata Global 2022: Production-grade Machine Learning with Flyte\n",
    "\n",
    "In this tutorial, you're going to learn about some of the key challenges to building and deploying reliable machine learning systems. At a high level, these challenges are the following:\n",
    "\n",
    "- Scalability\n",
    "- Data Quality\n",
    "- Reproducibility\n",
    "- Recoverability\n",
    "- Auditability"
   ]
  },
  {
   "cell_type": "code",
   "execution_count": 1,
   "metadata": {},
   "outputs": [],
   "source": [
    "from flytekit.remote import FlyteRemote\n",
    "from flytekit.configuration import Config\n",
    "\n",
    "\n",
    "LOCAL = False\n",
    "\n",
    "\n",
    "remote = FlyteRemote(\n",
    "    config=Config.auto(config_file=None if not LOCAL else \"./config.yaml\"),\n",
    "    default_project=\"flytesnacks\",\n",
    "    default_domain=\"development\",\n",
    ")"
   ]
  },
  {
   "cell_type": "markdown",
   "metadata": {},
   "source": [
    "## Introduction"
   ]
  },
  {
   "cell_type": "markdown",
   "metadata": {},
   "source": [
    "### Environment Setup\n",
    "\n",
    "Follow the instructions in the [setup instructions](./README.md#setup) of\n",
    "the README."
   ]
  },
  {
   "cell_type": "markdown",
   "metadata": {},
   "source": [
    "### Example 0: Flyte Basics\n",
    "\n",
    "Let's take a look at the [first example](./workflows/example_00_intro.py).\n",
    "\n",
    "In it, you'll see a simple pipeline that uses the penguins dataset to train a\n",
    "penguin species classifier. You can run this workflow locally with:\n",
    "\n",
    "```\n",
    "python workflows/example_00_intro.py\n",
    "```"
   ]
  },
  {
   "cell_type": "markdown",
   "metadata": {},
   "source": [
    "#### Exercise: Understanding Workflows\n",
    "\n",
    "Workflows are basically a domain-specific language (DSL) that builds an\n",
    "execution graph that uses tasks as the building blocks for more complex pipelines.\n",
    "\n",
    "Insert a debugging breakpoint `import pdb; pdb.set_trace()` on line 80 of the\n",
    "`example_00_intro.py` script and rerun it. Take a look at all the variables\n",
    "in the `training_workflow` like `data` and `model`. What data type are they?"
   ]
  },
  {
   "cell_type": "markdown",
   "metadata": {},
   "source": [
    "#### Registering Your Workflow\n",
    "\n",
    "Once you're happy with the state of your tasks and workflows, you can register\n",
    "them by first packaging them up into a portable flyte archive:\n",
    "\n",
    "```\n",
    "export IMAGE='ghcr.io/flyteorg/flyte-conference-talks:pydata-global-2022-latest'\n",
    "pyflyte --pkgs workflows package --image $IMAGE -f\n",
    "```\n",
    "\n",
    "This will create a `flyte-package.tgz` archive file that contains the serialized\n",
    "tasks and workflows in this project. Then, you can register it with:\n",
    "\n",
    "```\n",
    "flytectl register files --project flytesnacks --domain development --archive flyte-package.tgz --version v0\n",
    "```\n",
    "\n",
    "Now we can go over to https://sandbox.union.ai/console\n",
    "(or http://localhost:30080/console if you're using a local Flyte cluster) to\n",
    "check out the tasks and workflows we just registered."
   ]
  },
  {
   "cell_type": "code",
   "execution_count": 16,
   "metadata": {},
   "outputs": [
    {
     "data": {
      "text/plain": [
       "'http://localhost:30080/console/projects/flytesnacks/domains/development/executions/f3214fb2682cf4def94f'"
      ]
     },
     "execution_count": 16,
     "metadata": {},
     "output_type": "execute_result"
    }
   ],
   "source": [
    "from workflows import example_00_intro\n",
    "\n",
    "execution = remote.execute_local_workflow(\n",
    "    example_00_intro.training_workflow,\n",
    "    inputs={\n",
    "        \"hyperparameters\": {\"C\": 0.1, \"max_iter\": 5000},\n",
    "        \"test_size\": 0.2,\n",
    "        \"random_state\": 11,\n",
    "    }\n",
    ")\n",
    "remote.generate_console_url(execution)"
   ]
  },
  {
   "cell_type": "code",
   "execution_count": 17,
   "metadata": {},
   "outputs": [],
   "source": [
    "execution = remote.wait(execution)"
   ]
  },
  {
   "cell_type": "code",
   "execution_count": null,
   "metadata": {},
   "outputs": [],
   "source": [
    "clf = execution.outputs[\"o0\"]\n",
    "clf"
   ]
  },
  {
   "cell_type": "markdown",
   "metadata": {},
   "source": [
    "#### Scheduling Launchplans"
   ]
  },
  {
   "cell_type": "markdown",
   "metadata": {},
   "source": [
    "Activate the schedule:"
   ]
  },
  {
   "cell_type": "code",
   "execution_count": null,
   "metadata": {},
   "outputs": [
    {
     "name": "stdout",
     "output_type": "stream",
     "text": [
      "activated scheduled_training_workflow\n"
     ]
    }
   ],
   "source": [
    "lp_id = remote.fetch_launch_plan(name=\"scheduled_training_workflow\").id\n",
    "remote.client.update_launch_plan(lp_id, \"ACTIVE\")\n",
    "print(\"activated scheduled_training_workflow\")"
   ]
  },
  {
   "cell_type": "markdown",
   "metadata": {},
   "source": [
    "Get the execution for the most recent schedule run."
   ]
  },
  {
   "cell_type": "code",
   "execution_count": null,
   "metadata": {},
   "outputs": [],
   "source": [
    "recent_executions = [\n",
    "    execution\n",
    "    for execution in remote.recent_executions()\n",
    "    if execution.spec.launch_plan.name == \"scheduled_training_workflow\"\n",
    "]\n",
    "\n",
    "scheduled_execution = None\n",
    "model = None\n",
    "if recent_executions:\n",
    "    scheduled_execution = recent_executions[0]\n",
    "    scheduled_execution = remote.wait(scheduled_execution)\n",
    "    model = scheduled_execution.outputs[\"o0\"]\n",
    "    model\n",
    "\n",
    "print(model)"
   ]
  },
  {
   "cell_type": "markdown",
   "metadata": {},
   "source": [
    "Now deactivate the schedule"
   ]
  },
  {
   "cell_type": "code",
   "execution_count": null,
   "metadata": {},
   "outputs": [
    {
     "name": "stdout",
     "output_type": "stream",
     "text": [
      "deactivated scheduled_training_workflow\n"
     ]
    }
   ],
   "source": [
    "remote.client.update_launch_plan(lp_id, \"INACTIVE\")\n",
    "print(\"deactivated scheduled_training_workflow\")"
   ]
  },
  {
   "cell_type": "markdown",
   "metadata": {},
   "source": [
    "#### Fast Registration\n",
    "\n",
    "Flyte support rapid iteration during development via fast registration. This\n",
    "can be specified via the `--fast` flag in the `pyflyte package` command. This\n",
    "zips up all of the source code of your Flyte application and bypasses the need\n",
    "to re-build a docker image.\n",
    "\n",
    "```\n",
    "pyflyte --pkgs workflows package --image $IMAGE --fast -f\n",
    "flytectl register files --project flytesnacks --domain development --archive flyte-package.tgz --version fast-v0\n",
    "```"
   ]
  },
  {
   "cell_type": "markdown",
   "metadata": {},
   "source": [
    "## Scalability"
   ]
  },
  {
   "cell_type": "markdown",
   "metadata": {},
   "source": [
    "### Example 1: Dynamic Workflows\n",
    "\n",
    "Dynamic workflows allow you to create execution graphs on the fly. This allows\n",
    "you to specify for loops over inputs to implement a grid search model tuning\n",
    "workflow."
   ]
  },
  {
   "cell_type": "code",
   "execution_count": null,
   "metadata": {},
   "outputs": [],
   "source": [
    "from workflows import example_01_dynamic\n",
    "\n",
    "execution = remote.execute_local_workflow(\n",
    "    example_01_dynamic.tuning_workflow,\n",
    "    inputs={\n",
    "        \"hyperparam_grid\": [\n",
    "            {\"C\": 0.1, \"max_iter\": 5000},\n",
    "            {\"C\": 0.01, \"max_iter\": 5000},\n",
    "            {\"C\": 0.001, \"max_iter\": 5000},\n",
    "        ],\n",
    "    }\n",
    ")\n",
    "remote.generate_console_url(execution)"
   ]
  },
  {
   "cell_type": "markdown",
   "metadata": {},
   "source": [
    "### Example 2: Map Tasks"
   ]
  },
  {
   "cell_type": "code",
   "execution_count": null,
   "metadata": {},
   "outputs": [
    {
     "name": "stdout",
     "output_type": "stream",
     "text": [
      "http://localhost:30080/console/projects/flytesnacks/domains/development/executions/fe287057a00db4cacbdb\n"
     ]
    }
   ],
   "source": [
    "from workflows import example_02_map_task\n",
    "\n",
    "execution = remote.execute_local_workflow(\n",
    "    example_02_map_task.tuning_workflow,\n",
    "    inputs={\n",
    "        \"hyperparam_grid\": [\n",
    "            {\"C\": 0.1},\n",
    "            {\"C\": 0.01},\n",
    "            {\"C\": 0.001},\n",
    "        ],\n",
    "    }\n",
    ")\n",
    "print(remote.generate_console_url(execution))\n",
    "execution = remote.wait(execution)"
   ]
  },
  {
   "cell_type": "markdown",
   "metadata": {},
   "source": [
    "### Example 3: Plugins"
   ]
  },
  {
   "cell_type": "code",
   "execution_count": 19,
   "metadata": {},
   "outputs": [
    {
     "name": "stdout",
     "output_type": "stream",
     "text": [
      "http://localhost:30080/console/projects/flytesnacks/domains/development/executions/fa292bf270d0f4701a6d\n"
     ]
    }
   ],
   "source": [
    "from workflows import example_03_plugins\n",
    "\n",
    "execution = remote.execute_local_workflow(\n",
    "    example_03_plugins.training_workflow,\n",
    "    inputs={\n",
    "        \"n_epochs\": 50,\n",
    "        \"hyperparameters\": example_03_plugins.Hyperparameters(\n",
    "            in_dim=4, hidden_dim=100, out_dim=3, learning_rate=0.03\n",
    "        ),\n",
    "    }\n",
    ")\n",
    "print(remote.generate_console_url(execution))\n",
    "execution = remote.wait(execution)"
   ]
  },
  {
   "cell_type": "markdown",
   "metadata": {},
   "source": [
    "## Data Quality"
   ]
  },
  {
   "cell_type": "markdown",
   "metadata": {},
   "source": [
    "### Example 4: Type System"
   ]
  },
  {
   "cell_type": "markdown",
   "metadata": {},
   "source": [
    "The Flyte type system is responsible for a lot of Flyte's magic: Flyte uses\n",
    "the regular Python type hints to automatically serialize outputs of tasks\n",
    "and deserialize inputs of tasks from Flyte's native serialization format,\n",
    "including handling the off-loading of tabular data like `pandas.DataFrame`\n",
    "objects.\n",
    "\n",
    "A nice side-effect of this is that Flyte can also analyze the execution graph\n",
    "that's built at compile-time and raise errors.\n",
    "\n",
    "Take a look at [example_04_type_system.py](./workflows/example_04_type_system.py).\n",
    "Try changing the output signature of `get_data` from `pd.DataFrame` to `dict`\n",
    "and to fast register it:\n",
    "\n",
    "```\n",
    "pyflyte --pkgs workflows package --image $IMAGE --fast -f\n",
    "flytectl register files --project flytesnacks --domain development --archive flyte-package.tgz --version fast-v0\n",
    "```\n",
    "\n",
    "What error do you see?"
   ]
  },
  {
   "cell_type": "markdown",
   "metadata": {},
   "source": [
    "### Example 5: DataFrame Types\n",
    "\n",
    "Pandera is a data validation tool for dataframe-like objects. In\n",
    "[example_05_pandera_types.py](./workflows/example_05_pandera_types.py), we define\n",
    "a pandera schema that validates the output of `get_data` as well as the DataFrame\n",
    "input of `split_data` at runtime.\n",
    "\n",
    "#### Exercise\n",
    "\n",
    "- Uncomment line 49 in the `example_05_pandera_types.py`\n",
    "- Fast register it with the version `fast-pandera-error-v0` and fast register\n",
    "  it, then run the cell below. What error do you see?\n",
    "- Bonus: comment the offending line and fast register the workflows again with\n",
    "  the version `fast-pandera-error-v1`. Re-run the cell again... what do you see?"
   ]
  },
  {
   "cell_type": "code",
   "execution_count": 25,
   "metadata": {},
   "outputs": [
    {
     "name": "stdout",
     "output_type": "stream",
     "text": [
      "http://localhost:30080/console/projects/flytesnacks/domains/development/executions/fea0325d8490c4b41892\n"
     ]
    }
   ],
   "source": [
    "from workflows import example_05_pandera_types\n",
    "\n",
    "execution = remote.execute_local_workflow(\n",
    "    example_05_pandera_types.get_splits,\n",
    "    inputs={\"test_size\": 0.2}\n",
    ")\n",
    "print(remote.generate_console_url(execution))\n",
    "execution = remote.wait(execution)"
   ]
  },
  {
   "cell_type": "markdown",
   "metadata": {},
   "source": [
    "## Reproducibility"
   ]
  },
  {
   "cell_type": "markdown",
   "metadata": {},
   "source": [
    "### Example 6: Reproducibility\n",
    "\n",
    "Next, we'll learn about multiple levels of reproducibility:\n",
    "\n",
    "- **Environment-level reproducibility**: As you can see in the\n",
    "  [Dockerfile](./Dockerfile), we're containerizing our Flyte application to\n",
    "  capture a snapshot of all the dependencies that your tasks and workflows rely on.\n",
    "- **Code-level reproducibility**: In [example_06_reproducibility.py](./workflows/example_06_reproducibility.py)\n",
    "  we take care of setting a random seed for our model. This is a common practice \n",
    "  but an important one to remember!\n",
    "- **Resource-level reproducibility**: Finally, as you've seen previously we can\n",
    "  declare the compute and memory requirements of our pipeline at the task-level.\n",
    "\n",
    "Combined with built-in versioning for all tasks, workflows, launchplans, and\n",
    "executions, Flyte gives you the ability to roll back/forward to previous versions\n",
    "of any of these entities. Flyte tasks/workflows are sort of like hermetically-sealed\n",
    "containers that are guaranteed to produce the same output (error or not) given\n",
    "the same input."
   ]
  },
  {
   "cell_type": "markdown",
   "metadata": {},
   "source": [
    "## Recoverability"
   ]
  },
  {
   "cell_type": "markdown",
   "metadata": {},
   "source": [
    "### Example 7: Caching\n",
    "\n",
    "In this example, we revisit the model-tuning use case using `@dynamic` workflows."
   ]
  },
  {
   "cell_type": "code",
   "execution_count": 26,
   "metadata": {},
   "outputs": [
    {
     "data": {
      "text/plain": [
       "'http://localhost:30080/console/projects/flytesnacks/domains/development/executions/f21484f4a4a394b0b9a2'"
      ]
     },
     "execution_count": 26,
     "metadata": {},
     "output_type": "execute_result"
    }
   ],
   "source": [
    "from workflows import example_07_caching\n",
    "from workflows.example_06_reproducibility import Hyperparameters\n",
    "\n",
    "execution = remote.execute_local_workflow(\n",
    "    example_07_caching.tuning_workflow,\n",
    "    inputs={\n",
    "        \"hyperparam_grid\": [\n",
    "            Hyperparameters(alpha=alpha)\n",
    "            for alpha in [10.0, 1.0, 0.1, 0.01, 0.001, 0.0001]\n",
    "        ],\n",
    "    }\n",
    ")\n",
    "print(remote.generate_console_url(execution))\n",
    "execution = remote.wait(execution)"
   ]
  },
  {
   "cell_type": "markdown",
   "metadata": {},
   "source": [
    "### Example 8: Recovering Failed Executions"
   ]
  },
  {
   "cell_type": "code",
   "execution_count": null,
   "metadata": {},
   "outputs": [],
   "source": [
    "from workflows import example_08_recover_executions\n",
    "\n",
    "execution = remote.execute_local_workflow(\n",
    "    example_08_recover_executions.tuning_workflow,\n",
    "    inputs={\"alpha_grid\": [100.0, 10.0, 1.0, 0.1, 0.01, 0.001, 0.0001, 0.00001]}\n",
    ")\n",
    "print(remote.generate_console_url(execution))\n",
    "execution = remote.wait(execution)"
   ]
  },
  {
   "cell_type": "markdown",
   "metadata": {},
   "source": [
    "### Example 9: Checkpointing"
   ]
  },
  {
   "cell_type": "code",
   "execution_count": 29,
   "metadata": {},
   "outputs": [
    {
     "name": "stdout",
     "output_type": "stream",
     "text": [
      "http://localhost:30080/console/projects/flytesnacks/domains/development/executions/f783519030ee34c38ae9\n"
     ]
    }
   ],
   "source": [
    "from workflows import example_09_checkpointing\n",
    "from workflows.example_06_reproducibility import Hyperparameters\n",
    "\n",
    "execution = remote.execute_local_workflow(\n",
    "    example_09_checkpointing.training_workflow,\n",
    "    inputs={\n",
    "        \"n_epochs\": 30,\n",
    "        \"hyperparameters\": Hyperparameters(penalty=\"l1\", random_state=42),\n",
    "    }\n",
    ")\n",
    "print(remote.generate_console_url(execution))\n",
    "execution = remote.wait(execution)"
   ]
  },
  {
   "cell_type": "markdown",
   "metadata": {},
   "source": [
    "## Auditability"
   ]
  },
  {
   "cell_type": "markdown",
   "metadata": {},
   "source": [
    "### Example 10: Visiualization with Flyte Decks"
   ]
  },
  {
   "cell_type": "code",
   "execution_count": 2,
   "metadata": {},
   "outputs": [
    {
     "name": "stdout",
     "output_type": "stream",
     "text": [
      "http://localhost:30080/console/projects/flytesnacks/domains/development/executions/f2f00b5df5120474380e\n"
     ]
    }
   ],
   "source": [
    "from workflows import example_10_flyte_decks\n",
    "from workflows.utils import download_deck\n",
    "\n",
    "\n",
    "execution = remote.execute_local_workflow(\n",
    "    example_10_flyte_decks.penguins_data_workflow,\n",
    "    inputs={},\n",
    ")\n",
    "print(remote.generate_console_url(execution))\n",
    "execution = remote.wait(execution)"
   ]
  },
  {
   "cell_type": "code",
   "execution_count": null,
   "metadata": {},
   "outputs": [],
   "source": [
    "download_deck(remote, execution, \"n0\", \"decks/example_10_decks.html\")"
   ]
  },
  {
   "cell_type": "markdown",
   "metadata": {},
   "source": [
    "### Example 11: Extending Flyte Decks"
   ]
  },
  {
   "cell_type": "code",
   "execution_count": 6,
   "metadata": {},
   "outputs": [
    {
     "name": "stdout",
     "output_type": "stream",
     "text": [
      "http://localhost:30080/console/projects/flytesnacks/domains/development/executions/f00fc4b0eb2b544f1ab6\n"
     ]
    }
   ],
   "source": [
    "from workflows import example_11_extend_flyte_decks\n",
    "from workflows.example_06_reproducibility import Hyperparameters\n",
    "from workflows.utils import download_deck\n",
    "\n",
    "\n",
    "execution = remote.execute_local_workflow(\n",
    "    example_11_extend_flyte_decks.training_workflow,\n",
    "    inputs={\n",
    "        \"hyperparameters\": Hyperparameters(\n",
    "            penalty=\"l1\", alpha=0.03, random_state=12345\n",
    "        )\n",
    "    },\n",
    ")\n",
    "print(remote.generate_console_url(execution))\n",
    "execution = remote.wait(execution)"
   ]
  },
  {
   "cell_type": "code",
   "execution_count": 20,
   "metadata": {},
   "outputs": [
    {
     "name": "stdout",
     "output_type": "stream",
     "text": [
      "Flyte decks for execution f00fc4b0eb2b544f1ab6 downloaded to decks/example_11_decks.html\n"
     ]
    }
   ],
   "source": [
    "download_deck(remote, execution, \"n2\", \"decks/example_11_decks_n2.html\")\n",
    "download_deck(remote, execution, \"n2\", \"decks/example_11_decks_n3.html\")"
   ]
  }
 ],
 "metadata": {
  "kernelspec": {
   "display_name": "Python 3 (ipykernel)",
   "language": "python",
   "name": "python3"
  },
  "language_info": {
   "codemirror_mode": {
    "name": "ipython",
    "version": 3
   },
   "file_extension": ".py",
   "mimetype": "text/x-python",
   "name": "python",
   "nbconvert_exporter": "python",
   "pygments_lexer": "ipython3",
   "version": "3.9.1"
  },
  "vscode": {
   "interpreter": {
    "hash": "1c1aa76aeeda18f711a0c7c067c98817deca9b2faedcaffac8fadd364058945b"
   }
  }
 },
 "nbformat": 4,
 "nbformat_minor": 2
}

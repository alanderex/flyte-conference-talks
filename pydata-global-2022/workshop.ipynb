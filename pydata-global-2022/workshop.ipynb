{
 "cells": [
  {
   "cell_type": "markdown",
   "metadata": {},
   "source": [
    "# Pydata Global 2022: Production-grade Machine Learning with Flyte\n",
    "\n",
    "In this tutorial, you're going to learn about some of the key challenges to building and deploying reliable machine learning systems. At a high level, these challenges are the following:\n",
    "\n",
    "- Scalability\n",
    "- Data Quality\n",
    "- Reproducibility\n",
    "- Recoverability\n",
    "- Auditability"
   ]
  },
  {
   "cell_type": "code",
   "execution_count": 10,
   "metadata": {},
   "outputs": [],
   "source": [
    "import flytekit\n",
    "from flytekit.remote import FlyteRemote\n",
    "from flytekit.configuration import Config\n",
    "\n",
    "\n",
    "remote = FlyteRemote(\n",
    "    config=Config.auto(config_file=\"./config.yaml\"),\n",
    "    default_project=\"flytesnacks\",\n",
    "    default_domain=\"development\",\n",
    ")"
   ]
  },
  {
   "cell_type": "markdown",
   "metadata": {},
   "source": [
    "## Introduction"
   ]
  },
  {
   "cell_type": "markdown",
   "metadata": {},
   "source": [
    "### Environment Setup\n",
    "\n",
    "Follow the instructions in the [setup instructions](./README.md#setup) of\n",
    "the README."
   ]
  },
  {
   "cell_type": "markdown",
   "metadata": {},
   "source": [
    "### Example 0: Flyte Basics\n",
    "\n",
    "Let's take a look at the [first example](./workflows/example_00_intro.py).\n",
    "\n",
    "In it, you'll see a simple pipeline that uses the penguins dataset to train a\n",
    "penguin species classifier. You can run this workflow locally with:\n",
    "\n",
    "```\n",
    "python workflows/example_00_intro.py\n",
    "```"
   ]
  },
  {
   "cell_type": "markdown",
   "metadata": {},
   "source": [
    "#### Exercise: Understanding Workflows\n",
    "\n",
    "Workflows are basically a domain-specific language (DSL) that builds an\n",
    "execution graph that uses tasks as the building blocks for more complex pipelines.\n",
    "\n",
    "Insert a debugging breakpoint `import pdb; pdb.set_trace()` on line 80 of the\n",
    "`example_00_intro.py` script and rerun it. Take a look at all the variables\n",
    "in the `training_workflow` like `data` and `model`. What data type are they?"
   ]
  },
  {
   "cell_type": "markdown",
   "metadata": {},
   "source": [
    "#### Registering Your Workflow\n",
    "\n",
    "Once you're happy with the state of your tasks and workflows, you can register\n",
    "them by first packaging them up into a portable flyte archive:\n",
    "\n",
    "```\n",
    "export IMAGE='ghcr.io/flyteorg/flyte-conference-talks:pydata-global-2022-latest'\n",
    "pyflyte --pkgs workflows package --image $IMAGE -f\n",
    "```\n",
    "\n",
    "This will create a `flyte-package.tgz` archive file that contains the serialized\n",
    "tasks and workflows in this project. Then, you can register it with:\n",
    "\n",
    "```\n",
    "flytectl register files --project flytesnacks --domain development --archive flyte-package.tgz --version v0\n",
    "```\n",
    "\n",
    "Now we can go over to https://sandbox.union.ai/console\n",
    "(or http://localhost:30080/console if you're using a local Flyte cluster) to\n",
    "check out the tasks and workflows we just registered."
   ]
  },
  {
   "cell_type": "code",
   "execution_count": 4,
   "metadata": {},
   "outputs": [
    {
     "data": {
      "text/plain": [
       "'http://localhost:30080/console/projects/flytesnacks/domains/development/executions/fdf00ff99f65b45cda38'"
      ]
     },
     "execution_count": 4,
     "metadata": {},
     "output_type": "execute_result"
    }
   ],
   "source": [
    "from workflows import example_00_intro\n",
    "\n",
    "execution = remote.execute_local_workflow(\n",
    "    example_00_intro.training_workflow,\n",
    "    inputs={\n",
    "        \"hyperparameters\": {\"C\": 0.1, \"max_iter\": 5000},\n",
    "        \"test_size\": 0.2,\n",
    "        \"random_state\": 11,\n",
    "    }\n",
    ")\n",
    "remote.generate_console_url(execution)"
   ]
  },
  {
   "cell_type": "code",
   "execution_count": 5,
   "metadata": {},
   "outputs": [],
   "source": [
    "execution = remote.wait(execution)"
   ]
  },
  {
   "cell_type": "code",
   "execution_count": 7,
   "metadata": {},
   "outputs": [
    {
     "data": {
      "text/html": [
       "<style>#sk-container-id-2 {color: black;background-color: white;}#sk-container-id-2 pre{padding: 0;}#sk-container-id-2 div.sk-toggleable {background-color: white;}#sk-container-id-2 label.sk-toggleable__label {cursor: pointer;display: block;width: 100%;margin-bottom: 0;padding: 0.3em;box-sizing: border-box;text-align: center;}#sk-container-id-2 label.sk-toggleable__label-arrow:before {content: \"▸\";float: left;margin-right: 0.25em;color: #696969;}#sk-container-id-2 label.sk-toggleable__label-arrow:hover:before {color: black;}#sk-container-id-2 div.sk-estimator:hover label.sk-toggleable__label-arrow:before {color: black;}#sk-container-id-2 div.sk-toggleable__content {max-height: 0;max-width: 0;overflow: hidden;text-align: left;background-color: #f0f8ff;}#sk-container-id-2 div.sk-toggleable__content pre {margin: 0.2em;color: black;border-radius: 0.25em;background-color: #f0f8ff;}#sk-container-id-2 input.sk-toggleable__control:checked~div.sk-toggleable__content {max-height: 200px;max-width: 100%;overflow: auto;}#sk-container-id-2 input.sk-toggleable__control:checked~label.sk-toggleable__label-arrow:before {content: \"▾\";}#sk-container-id-2 div.sk-estimator input.sk-toggleable__control:checked~label.sk-toggleable__label {background-color: #d4ebff;}#sk-container-id-2 div.sk-label input.sk-toggleable__control:checked~label.sk-toggleable__label {background-color: #d4ebff;}#sk-container-id-2 input.sk-hidden--visually {border: 0;clip: rect(1px 1px 1px 1px);clip: rect(1px, 1px, 1px, 1px);height: 1px;margin: -1px;overflow: hidden;padding: 0;position: absolute;width: 1px;}#sk-container-id-2 div.sk-estimator {font-family: monospace;background-color: #f0f8ff;border: 1px dotted black;border-radius: 0.25em;box-sizing: border-box;margin-bottom: 0.5em;}#sk-container-id-2 div.sk-estimator:hover {background-color: #d4ebff;}#sk-container-id-2 div.sk-parallel-item::after {content: \"\";width: 100%;border-bottom: 1px solid gray;flex-grow: 1;}#sk-container-id-2 div.sk-label:hover label.sk-toggleable__label {background-color: #d4ebff;}#sk-container-id-2 div.sk-serial::before {content: \"\";position: absolute;border-left: 1px solid gray;box-sizing: border-box;top: 0;bottom: 0;left: 50%;z-index: 0;}#sk-container-id-2 div.sk-serial {display: flex;flex-direction: column;align-items: center;background-color: white;padding-right: 0.2em;padding-left: 0.2em;position: relative;}#sk-container-id-2 div.sk-item {position: relative;z-index: 1;}#sk-container-id-2 div.sk-parallel {display: flex;align-items: stretch;justify-content: center;background-color: white;position: relative;}#sk-container-id-2 div.sk-item::before, #sk-container-id-2 div.sk-parallel-item::before {content: \"\";position: absolute;border-left: 1px solid gray;box-sizing: border-box;top: 0;bottom: 0;left: 50%;z-index: -1;}#sk-container-id-2 div.sk-parallel-item {display: flex;flex-direction: column;z-index: 1;position: relative;background-color: white;}#sk-container-id-2 div.sk-parallel-item:first-child::after {align-self: flex-end;width: 50%;}#sk-container-id-2 div.sk-parallel-item:last-child::after {align-self: flex-start;width: 50%;}#sk-container-id-2 div.sk-parallel-item:only-child::after {width: 0;}#sk-container-id-2 div.sk-dashed-wrapped {border: 1px dashed gray;margin: 0 0.4em 0.5em 0.4em;box-sizing: border-box;padding-bottom: 0.4em;background-color: white;}#sk-container-id-2 div.sk-label label {font-family: monospace;font-weight: bold;display: inline-block;line-height: 1.2em;}#sk-container-id-2 div.sk-label-container {text-align: center;}#sk-container-id-2 div.sk-container {/* jupyter's `normalize.less` sets `[hidden] { display: none; }` but bootstrap.min.css set `[hidden] { display: none !important; }` so we also need the `!important` here to be able to override the default hidden behavior on the sphinx rendered scikit-learn.org. See: https://github.com/scikit-learn/scikit-learn/issues/21755 */display: inline-block !important;position: relative;}#sk-container-id-2 div.sk-text-repr-fallback {display: none;}</style><div id=\"sk-container-id-2\" class=\"sk-top-container\"><div class=\"sk-text-repr-fallback\"><pre>LogisticRegression(C=0.1, max_iter=5000.0)</pre><b>In a Jupyter environment, please rerun this cell to show the HTML representation or trust the notebook. <br />On GitHub, the HTML representation is unable to render, please try loading this page with nbviewer.org.</b></div><div class=\"sk-container\" hidden><div class=\"sk-item\"><div class=\"sk-estimator sk-toggleable\"><input class=\"sk-toggleable__control sk-hidden--visually\" id=\"sk-estimator-id-2\" type=\"checkbox\" checked><label for=\"sk-estimator-id-2\" class=\"sk-toggleable__label sk-toggleable__label-arrow\">LogisticRegression</label><div class=\"sk-toggleable__content\"><pre>LogisticRegression(C=0.1, max_iter=5000.0)</pre></div></div></div></div></div>"
      ],
      "text/plain": [
       "LogisticRegression(C=0.1, max_iter=5000.0)"
      ]
     },
     "execution_count": 7,
     "metadata": {},
     "output_type": "execute_result"
    }
   ],
   "source": [
    "clf = execution.outputs[\"o0\"]\n",
    "clf"
   ]
  },
  {
   "cell_type": "markdown",
   "metadata": {},
   "source": [
    "#### Execise: Understanding Workflows\n",
    "\n",
    "Workflows are basically a domain-specific language (DSL) that builds an\n",
    "execution graph that uses tasks as the building blocks for more complex pipelines.\n",
    "\n",
    "Insert a debugging breakpoint `import pdb; pdb.set_trace()` on line 80 of the\n",
    "`example_00_intro.py` script and rerun it."
   ]
  },
  {
   "cell_type": "markdown",
   "metadata": {},
   "source": [
    "#### Scheduling Launchplans"
   ]
  },
  {
   "cell_type": "markdown",
   "metadata": {},
   "source": [
    "Activate the schedule:"
   ]
  },
  {
   "cell_type": "code",
   "execution_count": 19,
   "metadata": {},
   "outputs": [],
   "source": [
    "lp_id = remote.fetch_launch_plan(name=\"scheduled_training_workflow\").id\n",
    "remote.client.update_launch_plan(lp_id, \"ACTIVE\")\n",
    "print(\"activated scheduled_training_workflow\")"
   ]
  },
  {
   "cell_type": "markdown",
   "metadata": {},
   "source": [
    "Get the execution for the most recent schedule run."
   ]
  },
  {
   "cell_type": "code",
   "execution_count": null,
   "metadata": {},
   "outputs": [],
   "source": [
    "recent_executions = [\n",
    "    execution\n",
    "    for execution in remote.recent_executions()\n",
    "    if execution.spec.launch_plan.name == \"scheduled_training_workflow\"\n",
    "]\n",
    "\n",
    "scheduled_execution = None\n",
    "model = None\n",
    "if recent_executions:\n",
    "    scheduled_execution = recent_executions[0]\n",
    "    print(scheduled_execution)\n",
    "    scheduled_execution = remote.wait(scheduled_execution)\n",
    "    model = scheduled_execution.outputs[\"o0\"]\n",
    "    model\n",
    "\n",
    "print(model)"
   ]
  },
  {
   "cell_type": "markdown",
   "metadata": {},
   "source": [
    "Now deactivate the schedule"
   ]
  },
  {
   "cell_type": "code",
   "execution_count": 44,
   "metadata": {},
   "outputs": [],
   "source": [
    "remote.client.update_launch_plan(lp_id, \"INACTIVE\")\n",
    "print(\"deactivated scheduled_training_workflow\")"
   ]
  },
  {
   "cell_type": "markdown",
   "metadata": {},
   "source": [
    "### Example 1: Dynamic Workflows\n",
    "\n",
    "Dynamic workflows allow you to create execution graphs on the fly. This allows\n",
    "you to specify for loops over inputs to implement a grid search model tuning\n",
    "workflow."
   ]
  },
  {
   "cell_type": "code",
   "execution_count": null,
   "metadata": {},
   "outputs": [],
   "source": [
    "from workflows import example_01_dynamic\n",
    "\n",
    "execution = remote.execute_local_workflow(\n",
    "    example_01_dynamic.tuning_workflow,\n",
    "    inputs={\n",
    "        \"hyperparam_grid\": [\n",
    "            {\"C\": 0.1, \"max_iter\": 5000},\n",
    "            {\"C\": 0.01, \"max_iter\": 5000},\n",
    "            {\"C\": 0.001, \"max_iter\": 5000},\n",
    "        ],\n",
    "    }\n",
    ")\n",
    "remote.generate_console_url(execution)"
   ]
  },
  {
   "cell_type": "markdown",
   "metadata": {},
   "source": [
    "### Example 2: Map Tasks"
   ]
  },
  {
   "cell_type": "code",
   "execution_count": null,
   "metadata": {},
   "outputs": [],
   "source": [
    "from workflows import example_02_map_task\n",
    "\n",
    "execution = remote.execute_local_workflow(\n",
    "    example_02_map_task.tuning_workflow,\n",
    "    inputs={\n",
    "        \"hyperparam_grid\": [\n",
    "            {\"C\": 0.1},\n",
    "            {\"C\": 0.01},\n",
    "            {\"C\": 0.001},\n",
    "        ],\n",
    "    }\n",
    ")\n",
    "print(remote.generate_console_url(execution))\n",
    "execution = remote.wait(execution)"
   ]
  },
  {
   "cell_type": "markdown",
   "metadata": {},
   "source": [
    "### Example 3: Plugins"
   ]
  },
  {
   "cell_type": "markdown",
   "metadata": {},
   "source": [
    "### Example 4: Type System"
   ]
  },
  {
   "cell_type": "markdown",
   "metadata": {},
   "source": [
    "### Example 5: Pandera Types"
   ]
  },
  {
   "cell_type": "markdown",
   "metadata": {},
   "source": [
    "### Example 6: Reproducibility"
   ]
  },
  {
   "cell_type": "markdown",
   "metadata": {},
   "source": [
    "### Example 7: Caching"
   ]
  },
  {
   "cell_type": "markdown",
   "metadata": {},
   "source": [
    "### Example 8: Recovering Failed Executions"
   ]
  },
  {
   "cell_type": "markdown",
   "metadata": {},
   "source": [
    "### Example 9: Checkpointing"
   ]
  },
  {
   "cell_type": "markdown",
   "metadata": {},
   "source": [
    "### Example 10: Visiualization with Flyte Decks"
   ]
  },
  {
   "cell_type": "code",
   "execution_count": 86,
   "metadata": {},
   "outputs": [],
   "source": [
    "from workflows import example_10_flyte_decks\n",
    "\n",
    "\n",
    "def download_deck(execution, local_path: str):\n",
    "    remote.file_access.download(\n",
    "        execution.node_executions[\"n1\"].closure.deck_uri, local_path\n",
    "    )\n",
    "    print(f\"Flyte decks for execution {execution.id.name} downloaded to {local_path}\")\n",
    "\n",
    "\n",
    "execution = remote.execute_local_workflow(\n",
    "    example_10_flyte_decks.penguins_data_workflow,\n",
    "    inputs={},\n",
    ")\n",
    "print(remote.generate_console_url(execution))\n",
    "execution = remote.wait(execution)"
   ]
  },
  {
   "cell_type": "code",
   "execution_count": 87,
   "metadata": {},
   "outputs": [
    {
     "name": "stdout",
     "output_type": "stream",
     "text": [
      "Flyte decks for execution f381cfa5d070545a4ae6 downloaded to decks/example_10_decks.html\n"
     ]
    }
   ],
   "source": [
    "download_deck(execution, \"decks/example_10_decks.html\")"
   ]
  },
  {
   "cell_type": "markdown",
   "metadata": {},
   "source": [
    "### Example 11: Extending Flyte Decks"
   ]
  }
 ],
 "metadata": {
  "kernelspec": {
   "display_name": "Python 3 (ipykernel)",
   "language": "python",
   "name": "python3"
  },
  "language_info": {
   "codemirror_mode": {
    "name": "ipython",
    "version": 3
   },
   "file_extension": ".py",
   "mimetype": "text/x-python",
   "name": "python",
   "nbconvert_exporter": "python",
   "pygments_lexer": "ipython3",
   "version": "3.9.1"
  },
  "vscode": {
   "interpreter": {
    "hash": "1c1aa76aeeda18f711a0c7c067c98817deca9b2faedcaffac8fadd364058945b"
   }
  }
 },
 "nbformat": 4,
 "nbformat_minor": 2
}

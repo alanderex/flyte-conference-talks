{
 "cells": [
  {
   "cell_type": "code",
   "execution_count": 15,
   "metadata": {},
   "outputs": [],
   "source": [
    "from pathlib import Path\n",
    "from flytekit.remote import FlyteRemote\n",
    "from flytekit.configuration import Config\n",
    "\n",
    "\n",
    "remote = FlyteRemote(\n",
    "    config=Config.auto(\n",
    "        config_file=str(Path.home() / \".flyte\" / \"unionplayground-config.yaml\")\n",
    "    ),\n",
    "    default_project=\"flytesnacks\",\n",
    "    default_domain=\"development\",\n",
    ")"
   ]
  },
  {
   "cell_type": "code",
   "execution_count": 16,
   "metadata": {},
   "outputs": [
    {
     "data": {
      "text/plain": [
       "'https://playground.hosted.unionai.cloud/console/projects/flytesnacks/domains/development/executions/f06e5039f12c54e02b3c'"
      ]
     },
     "execution_count": 16,
     "metadata": {},
     "output_type": "execute_result"
    }
   ],
   "source": [
    "from workflows import example_00_intro\n",
    "\n",
    "execution = remote.execute_local_workflow(\n",
    "    example_00_intro.training_workflow,\n",
    "    inputs={\n",
    "        \"hyperparameters\": {\"C\": 0.1, \"max_iter\": 5000},\n",
    "        \"test_size\": 0.2,\n",
    "        \"random_state\": 11,\n",
    "    }\n",
    ")\n",
    "remote.generate_console_url(execution)"
   ]
  }
 ],
 "metadata": {
  "kernelspec": {
   "display_name": "Python 3.9.1 ('.venv': venv)",
   "language": "python",
   "name": "python3"
  },
  "language_info": {
   "codemirror_mode": {
    "name": "ipython",
    "version": 3
   },
   "file_extension": ".py",
   "mimetype": "text/x-python",
   "name": "python",
   "nbconvert_exporter": "python",
   "pygments_lexer": "ipython3",
   "version": "3.9.1"
  },
  "orig_nbformat": 4,
  "vscode": {
   "interpreter": {
    "hash": "225b700761647fe2044231b04a04b38875ea9c4d51aa1ac812ac61803483b134"
   }
  }
 },
 "nbformat": 4,
 "nbformat_minor": 2
}
